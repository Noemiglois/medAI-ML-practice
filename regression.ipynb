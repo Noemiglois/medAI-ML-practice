{
 "cells": [
  {
   "cell_type": "markdown",
   "metadata": {},
   "source": [
    "# CAPÍTULO 3: Regresión\n",
    "\n",
    "*Noemi González Lois*"
   ]
  },
  {
   "cell_type": "markdown",
   "metadata": {},
   "source": [
    "**MÓDULOS**"
   ]
  },
  {
   "cell_type": "code",
   "execution_count": 1,
   "metadata": {},
   "outputs": [],
   "source": [
    "# Importación de módulos necesarios\n",
    "import numpy as np\n",
    "import pandas as pd\n",
    "import matplotlib.pyplot as plt\n",
    "from sklearn import preprocessing, model_selection, metrics\n",
    "from sklearn.model_selection import validation_curve, GridSearchCV, cross_val_score\n",
    "from sklearn.metrics import explained_variance_score, mean_squared_error\n",
    "from sklearn.preprocessing import StandardScaler\n",
    "\n",
    "# Ignorar advertencias de futuras versiones\n",
    "import warnings\n",
    "warnings.filterwarnings(\"ignore\", category=FutureWarning)"
   ]
  },
  {
   "cell_type": "markdown",
   "metadata": {},
   "source": [
    "CARGAMOS Y VISUALIZAMOS LOS DATOS DE LA BASE"
   ]
  },
  {
   "cell_type": "code",
   "execution_count": 2,
   "metadata": {},
   "outputs": [
    {
     "data": {
      "text/html": [
       "<div>\n",
       "<style scoped>\n",
       "    .dataframe tbody tr th:only-of-type {\n",
       "        vertical-align: middle;\n",
       "    }\n",
       "\n",
       "    .dataframe tbody tr th {\n",
       "        vertical-align: top;\n",
       "    }\n",
       "\n",
       "    .dataframe thead th {\n",
       "        text-align: right;\n",
       "    }\n",
       "</style>\n",
       "<table border=\"1\" class=\"dataframe\">\n",
       "  <thead>\n",
       "    <tr style=\"text-align: right;\">\n",
       "      <th></th>\n",
       "      <th>BI-RADS</th>\n",
       "      <th>Age</th>\n",
       "      <th>Shape</th>\n",
       "      <th>Margin</th>\n",
       "      <th>Density</th>\n",
       "      <th>Severity</th>\n",
       "    </tr>\n",
       "  </thead>\n",
       "  <tbody>\n",
       "    <tr>\n",
       "      <th>0</th>\n",
       "      <td>5</td>\n",
       "      <td>67</td>\n",
       "      <td>3</td>\n",
       "      <td>5</td>\n",
       "      <td>3</td>\n",
       "      <td>1</td>\n",
       "    </tr>\n",
       "    <tr>\n",
       "      <th>1</th>\n",
       "      <td>4</td>\n",
       "      <td>43</td>\n",
       "      <td>1</td>\n",
       "      <td>1</td>\n",
       "      <td>3</td>\n",
       "      <td>1</td>\n",
       "    </tr>\n",
       "    <tr>\n",
       "      <th>2</th>\n",
       "      <td>5</td>\n",
       "      <td>58</td>\n",
       "      <td>4</td>\n",
       "      <td>5</td>\n",
       "      <td>3</td>\n",
       "      <td>1</td>\n",
       "    </tr>\n",
       "    <tr>\n",
       "      <th>3</th>\n",
       "      <td>4</td>\n",
       "      <td>28</td>\n",
       "      <td>1</td>\n",
       "      <td>1</td>\n",
       "      <td>3</td>\n",
       "      <td>0</td>\n",
       "    </tr>\n",
       "    <tr>\n",
       "      <th>4</th>\n",
       "      <td>5</td>\n",
       "      <td>74</td>\n",
       "      <td>1</td>\n",
       "      <td>5</td>\n",
       "      <td>3</td>\n",
       "      <td>1</td>\n",
       "    </tr>\n",
       "  </tbody>\n",
       "</table>\n",
       "</div>"
      ],
      "text/plain": [
       "   BI-RADS  Age  Shape  Margin  Density  Severity\n",
       "0        5   67      3       5        3         1\n",
       "1        4   43      1       1        3         1\n",
       "2        5   58      4       5        3         1\n",
       "3        4   28      1       1        3         0\n",
       "4        5   74      1       5        3         1"
      ]
     },
     "execution_count": 2,
     "metadata": {},
     "output_type": "execute_result"
    }
   ],
   "source": [
    "datos = pd.read_csv('BaseDatos_mod.csv', delimiter=',')\n",
    "datos.head()"
   ]
  },
  {
   "cell_type": "markdown",
   "metadata": {},
   "source": [
    "MATRIZ DE CORRELACIÓN LINEAL"
   ]
  },
  {
   "cell_type": "code",
   "execution_count": 3,
   "metadata": {},
   "outputs": [
    {
     "data": {
      "text/html": [
       "<div>\n",
       "<style scoped>\n",
       "    .dataframe tbody tr th:only-of-type {\n",
       "        vertical-align: middle;\n",
       "    }\n",
       "\n",
       "    .dataframe tbody tr th {\n",
       "        vertical-align: top;\n",
       "    }\n",
       "\n",
       "    .dataframe thead th {\n",
       "        text-align: right;\n",
       "    }\n",
       "</style>\n",
       "<table border=\"1\" class=\"dataframe\">\n",
       "  <thead>\n",
       "    <tr style=\"text-align: right;\">\n",
       "      <th></th>\n",
       "      <th>BI-RADS</th>\n",
       "      <th>Age</th>\n",
       "      <th>Shape</th>\n",
       "      <th>Margin</th>\n",
       "      <th>Density</th>\n",
       "      <th>Severity</th>\n",
       "    </tr>\n",
       "  </thead>\n",
       "  <tbody>\n",
       "    <tr>\n",
       "      <th>BI-RADS</th>\n",
       "      <td>1.000000</td>\n",
       "      <td>0.338493</td>\n",
       "      <td>0.448287</td>\n",
       "      <td>0.467755</td>\n",
       "      <td>0.089451</td>\n",
       "      <td>0.569035</td>\n",
       "    </tr>\n",
       "    <tr>\n",
       "      <th>Age</th>\n",
       "      <td>0.338493</td>\n",
       "      <td>1.000000</td>\n",
       "      <td>0.360532</td>\n",
       "      <td>0.402995</td>\n",
       "      <td>0.021119</td>\n",
       "      <td>0.431329</td>\n",
       "    </tr>\n",
       "    <tr>\n",
       "      <th>Shape</th>\n",
       "      <td>0.448287</td>\n",
       "      <td>0.360532</td>\n",
       "      <td>1.000000</td>\n",
       "      <td>0.718893</td>\n",
       "      <td>0.057495</td>\n",
       "      <td>0.552781</td>\n",
       "    </tr>\n",
       "    <tr>\n",
       "      <th>Margin</th>\n",
       "      <td>0.467755</td>\n",
       "      <td>0.402995</td>\n",
       "      <td>0.718893</td>\n",
       "      <td>1.000000</td>\n",
       "      <td>0.094516</td>\n",
       "      <td>0.557867</td>\n",
       "    </tr>\n",
       "    <tr>\n",
       "      <th>Density</th>\n",
       "      <td>0.089451</td>\n",
       "      <td>0.021119</td>\n",
       "      <td>0.057495</td>\n",
       "      <td>0.094516</td>\n",
       "      <td>1.000000</td>\n",
       "      <td>0.054681</td>\n",
       "    </tr>\n",
       "    <tr>\n",
       "      <th>Severity</th>\n",
       "      <td>0.569035</td>\n",
       "      <td>0.431329</td>\n",
       "      <td>0.552781</td>\n",
       "      <td>0.557867</td>\n",
       "      <td>0.054681</td>\n",
       "      <td>1.000000</td>\n",
       "    </tr>\n",
       "  </tbody>\n",
       "</table>\n",
       "</div>"
      ],
      "text/plain": [
       "           BI-RADS       Age     Shape    Margin   Density  Severity\n",
       "BI-RADS   1.000000  0.338493  0.448287  0.467755  0.089451  0.569035\n",
       "Age       0.338493  1.000000  0.360532  0.402995  0.021119  0.431329\n",
       "Shape     0.448287  0.360532  1.000000  0.718893  0.057495  0.552781\n",
       "Margin    0.467755  0.402995  0.718893  1.000000  0.094516  0.557867\n",
       "Density   0.089451  0.021119  0.057495  0.094516  1.000000  0.054681\n",
       "Severity  0.569035  0.431329  0.552781  0.557867  0.054681  1.000000"
      ]
     },
     "execution_count": 3,
     "metadata": {},
     "output_type": "execute_result"
    }
   ],
   "source": [
    "datos.corr()"
   ]
  },
  {
   "cell_type": "code",
   "execution_count": 4,
   "metadata": {},
   "outputs": [],
   "source": [
    "# ESTABLECEMOS EL TARGET 'Y' Y LOS DEMÁS DATOS 'X'\n",
    "# Seleccionamos la columna 'Shape' como nuestro objetivo (y)\n",
    "target = datos['Shape']\n",
    "\n",
    "# Convertimos el DataFrame de pandas en un array numpy\n",
    "y = np.ravel(target)\n",
    "\n",
    "# Seleccionamos las columnas 'Margin' y 'Severity' como nuestras características (X)\n",
    "# Eliminamos la columna 'Density' ya que no la estamos utilizando\n",
    "data = datos[['Margin', 'Severity']]\n",
    "X = np.array(data)\n",
    "\n",
    "# SEPARAMOS EN TRAIN Y TEST\n",
    "# Dividimos los datos en conjuntos de entrenamiento y prueba\n",
    "from sklearn.model_selection import train_test_split\n",
    "X_train, X_test, y_train, y_test = train_test_split(data, target, test_size=0.2)\n",
    "\n",
    "# Extraemos los nombres de las columnas como atributos del subconjunto Train\n",
    "features_train = list(X_train.columns)"
   ]
  },
  {
   "cell_type": "code",
   "execution_count": 5,
   "metadata": {},
   "outputs": [
    {
     "data": {
      "text/plain": [
       "0    3\n",
       "1    1\n",
       "2    4\n",
       "3    1\n",
       "4    1\n",
       "Name: Shape, dtype: int64"
      ]
     },
     "execution_count": 5,
     "metadata": {},
     "output_type": "execute_result"
    }
   ],
   "source": [
    "target.head()"
   ]
  },
  {
   "cell_type": "code",
   "execution_count": 6,
   "metadata": {},
   "outputs": [
    {
     "data": {
      "text/html": [
       "<div>\n",
       "<style scoped>\n",
       "    .dataframe tbody tr th:only-of-type {\n",
       "        vertical-align: middle;\n",
       "    }\n",
       "\n",
       "    .dataframe tbody tr th {\n",
       "        vertical-align: top;\n",
       "    }\n",
       "\n",
       "    .dataframe thead th {\n",
       "        text-align: right;\n",
       "    }\n",
       "</style>\n",
       "<table border=\"1\" class=\"dataframe\">\n",
       "  <thead>\n",
       "    <tr style=\"text-align: right;\">\n",
       "      <th></th>\n",
       "      <th>Margin</th>\n",
       "      <th>Severity</th>\n",
       "    </tr>\n",
       "  </thead>\n",
       "  <tbody>\n",
       "    <tr>\n",
       "      <th>0</th>\n",
       "      <td>5</td>\n",
       "      <td>1</td>\n",
       "    </tr>\n",
       "    <tr>\n",
       "      <th>1</th>\n",
       "      <td>1</td>\n",
       "      <td>1</td>\n",
       "    </tr>\n",
       "    <tr>\n",
       "      <th>2</th>\n",
       "      <td>5</td>\n",
       "      <td>1</td>\n",
       "    </tr>\n",
       "    <tr>\n",
       "      <th>3</th>\n",
       "      <td>1</td>\n",
       "      <td>0</td>\n",
       "    </tr>\n",
       "    <tr>\n",
       "      <th>4</th>\n",
       "      <td>5</td>\n",
       "      <td>1</td>\n",
       "    </tr>\n",
       "  </tbody>\n",
       "</table>\n",
       "</div>"
      ],
      "text/plain": [
       "   Margin  Severity\n",
       "0       5         1\n",
       "1       1         1\n",
       "2       5         1\n",
       "3       1         0\n",
       "4       5         1"
      ]
     },
     "execution_count": 6,
     "metadata": {},
     "output_type": "execute_result"
    }
   ],
   "source": [
    "data.head()"
   ]
  },
  {
   "cell_type": "markdown",
   "metadata": {},
   "source": [
    "TABLA COMPARATIVA"
   ]
  },
  {
   "cell_type": "code",
   "execution_count": 7,
   "metadata": {},
   "outputs": [],
   "source": [
    "# Creamos un DataFrame para comparar los resultados de diferentes modelos\n",
    "# Indexamos por el nombre del modelo ('Regresión lineal', 'KNN', 'Árbol')\n",
    "# y las columnas representan diferentes métricas ('R2 test', 'R2 train', 'ECM', 'Varianza')\n",
    "comp = pd.DataFrame(index=['Regresión lineal', 'KNN', 'Árbol'], \n",
    "                    columns=['R2 test', 'R2 train', 'Error cuadrático medio', 'Varianza'])"
   ]
  },
  {
   "cell_type": "markdown",
   "metadata": {},
   "source": [
    "## REGRESIÓN LINEAL"
   ]
  },
  {
   "cell_type": "code",
   "execution_count": 8,
   "metadata": {},
   "outputs": [],
   "source": [
    "from sklearn.linear_model import LinearRegression"
   ]
  },
  {
   "cell_type": "code",
   "execution_count": 9,
   "metadata": {},
   "outputs": [
    {
     "name": "stdout",
     "output_type": "stream",
     "text": [
      "El R2 para el modelo de regresión lineal en el conjunto de TEST es: 0.4722\n",
      "El R2 para el modelo de regresión lineal en el conjunto de TRAIN es: 0.5662\n",
      "Variance score: 0.4771\n",
      "Mean squared error score (TEST): 0.7701\n"
     ]
    }
   ],
   "source": [
    "# Creamos el objeto de Regresión Lineal y ajustamos el modelo\n",
    "model = LinearRegression().fit(X_train, y_train)\n",
    "predict = model.predict(X_test)\n",
    "\n",
    "# Calculamos el R2 para el conjunto de TEST y TRAIN\n",
    "r2_test = model.score(X_test, y_test).round(4)\n",
    "r2_train = model.score(X_train, y_train).round(4)\n",
    "\n",
    "# Calculamos la varianza explicada y el error cuadrático medio\n",
    "var = explained_variance_score(y_test, predict).round(4)\n",
    "ECM = mean_squared_error(y_test, predict).round(4)\n",
    "\n",
    "# Imprimimos los resultados\n",
    "print('El R2 para el modelo de regresión lineal en el conjunto de TEST es:', r2_test)\n",
    "print('El R2 para el modelo de regresión lineal en el conjunto de TRAIN es:', r2_train)\n",
    "print(\"Variance score:\", var)\n",
    "print(\"Mean squared error score (TEST):\", ECM)\n",
    "\n",
    "# Asignamos los resultados al DataFrame 'comp'\n",
    "comp.loc['Regresión lineal'] = [r2_test, r2_train, ECM, var]"
   ]
  },
  {
   "cell_type": "markdown",
   "metadata": {},
   "source": [
    "## K VECINOS MÁS CERCANOS"
   ]
  },
  {
   "cell_type": "markdown",
   "metadata": {},
   "source": [
    "Primero tenemos que **normalizar** los datos de X_train y estandarizarlos de X_test, ya que es un método basado en distancia. "
   ]
  },
  {
   "cell_type": "code",
   "execution_count": 10,
   "metadata": {},
   "outputs": [],
   "source": [
    "from sklearn.neighbors import KNeighborsRegressor"
   ]
  },
  {
   "cell_type": "code",
   "execution_count": 11,
   "metadata": {},
   "outputs": [
    {
     "data": {
      "image/png": "[encoded data removed]",
      "text/plain": [
       "<Figure size 640x480 with 1 Axes>"
      ]
     },
     "metadata": {},
     "output_type": "display_data"
    },
    {
     "name": "stdout",
     "output_type": "stream",
     "text": [
      "El valor k óptimo es: 31\n"
     ]
    }
   ],
   "source": [
    "# Copiar los datos para evitar modificar los originales\n",
    "X_train_std = np.copy(X_train)\n",
    "X_test_std = np.copy(X_test)\n",
    "\n",
    "# Estandarizar TRAIN y TEST usando el mismo scaler\n",
    "scaler = StandardScaler()\n",
    "X_train_std = scaler.fit_transform(X_train_std)\n",
    "X_test_std = scaler.fit_transform(X_test_std)\n",
    "\n",
    "# Definir los valores de k para la búsqueda\n",
    "k_values = range(1, 101, 2)\n",
    "\n",
    "# Inicializar listas para almacenar los resultados\n",
    "mean_scores = []  # Almacena los puntajes medios de validación cruzada\n",
    "scores_train = []  # Almacena los puntajes de entrenamiento\n",
    "\n",
    "# Bucle sobre los valores de k\n",
    "for k in k_values:\n",
    "    # Inicializar un modelo KNeighborsRegressor con el valor actual de k\n",
    "    knn = KNeighborsRegressor(n_neighbors=k)\n",
    "    \n",
    "    # Calcular los puntajes de validación cruzada negativos del modelo\n",
    "    scores = -cross_val_score(knn, X_train_std, np.ravel(y_train), cv=5, scoring='neg_mean_squared_error')\n",
    "    \n",
    "    # Calcular el puntaje medio de validación cruzada y almacenarlo\n",
    "    mean_scores.append(scores.mean())\n",
    "    \n",
    "    # Entrenar el modelo KNeighborsRegressor en los datos de entrenamiento\n",
    "    knn_train = KNeighborsRegressor(n_neighbors=k)\n",
    "    model = knn_train.fit(X_train_std, np.ravel(y_train))\n",
    "    \n",
    "    # Predecir en los datos de entrenamiento y calcular el puntaje de entrenamiento\n",
    "    model.predict(X_train_std)\n",
    "    score = model.score(X_train_std, y_train)\n",
    "    scores_train.append(score)\n",
    "\n",
    "# Graficar las curvas de validación y entrenamiento\n",
    "fig, ax = plt.subplots()\n",
    "ax.plot(k_values, mean_scores, color=\"navy\", label=\"Validation score\", marker='.')\n",
    "ax.plot(k_values, scores_train, color=\"darkorange\", label=\"Train score\", marker='.')\n",
    "ax.legend(loc=\"best\", title=\"Curves\", frameon=True)\n",
    "plt.xlabel('k values')\n",
    "plt.ylabel('Mean squared error')\n",
    "plt.show()\n",
    "\n",
    "# Encontrar el valor k óptimo que minimiza el error cuadrático medio\n",
    "k = np.array(k_values)[np.argmin(mean_scores)]\n",
    "print('El valor k óptimo es:', k)"
   ]
  },
  {
   "cell_type": "code",
   "execution_count": 12,
   "metadata": {},
   "outputs": [],
   "source": [
    "#Entrenamos el modelo con el valor óptimo de k obtenido.\n",
    "model = KNeighborsRegressor(n_neighbors=k)\n",
    "predict= model.fit(X_train_std, np.ravel(y_train)).predict(X_test_std)"
   ]
  },
  {
   "cell_type": "code",
   "execution_count": 13,
   "metadata": {},
   "outputs": [
    {
     "name": "stdout",
     "output_type": "stream",
     "text": [
      "=============== Regressor Report ================\n",
      "El R2 para el modelo de KNN en el conjunto de TEST es: 0.5152\n",
      "El R2 para el modelo de KNN en el conjunto de TRAIN es: 0.6035 \n",
      "\n",
      "Variance score: 0.5171\n",
      "Mean squared error score: 0.7073\n"
     ]
    }
   ],
   "source": [
    "# Calcular el R2 para el conjunto de test y el conjunto de train\n",
    "r2_test = model.score(X_test_std, y_test).round(4)\n",
    "r2_train = model.score(X_train_std, y_train).round(4)\n",
    "var = explained_variance_score(y_test, predict).round(4)\n",
    "mse = mean_squared_error(y_test, predict).round(4)\n",
    "\n",
    "# Calcular la varianza y el R2 score\n",
    "print(\"=============== Regressor Report ================\")\n",
    "print('El R2 para el modelo de KNN en el conjunto de TEST es:', r2_test)\n",
    "print('El R2 para el modelo de KNN en el conjunto de TRAIN es:', r2_train,'\\n')\n",
    "print(\"Variance score:\", var)\n",
    "print(\"Mean squared error score:\", mse)\n",
    "\n",
    "# Asignamos los resultados al DataFrame 'comp'\n",
    "comp.loc['KNN'] = [r2_test, r2_train, ECM, var]"
   ]
  },
  {
   "cell_type": "markdown",
   "metadata": {},
   "source": [
    "## ÁRBOLES DE REGRESIÓN"
   ]
  },
  {
   "cell_type": "code",
   "execution_count": 14,
   "metadata": {},
   "outputs": [],
   "source": [
    "from sklearn.tree import DecisionTreeRegressor"
   ]
  },
  {
   "cell_type": "code",
   "execution_count": 15,
   "metadata": {},
   "outputs": [
    {
     "name": "stdout",
     "output_type": "stream",
     "text": [
      "Los parámetros seleccionados por la función GridSearch son: {'max_depth': 5, 'min_samples_leaf': 10}\n"
     ]
    },
    {
     "data": {
      "image/png": "[encoded data removed]",
      "text/plain": [
       "<Figure size 640x480 with 1 Axes>"
      ]
     },
     "metadata": {},
     "output_type": "display_data"
    },
    {
     "data": {
      "image/png": "[encoded data removed]",
      "text/plain": [
       "<Figure size 640x480 with 1 Axes>"
      ]
     },
     "metadata": {},
     "output_type": "display_data"
    }
   ],
   "source": [
    "# Creamos el modelo DecisionTreeRegressor\n",
    "model = DecisionTreeRegressor()\n",
    "\n",
    "# Definimos los rangos de parámetros para la búsqueda de hiperparámetros\n",
    "max_depth = range(1, 20)\n",
    "min_samples_leaf = range(10, 100)\n",
    "\n",
    "# Definimos el diccionario de parámetros para GridSearchCV\n",
    "param = {'max_depth': max_depth, 'min_samples_leaf': min_samples_leaf}\n",
    "\n",
    "# Realizamos la búsqueda de hiperparámetros\n",
    "grid = GridSearchCV(model, param_grid=param, cv=5, n_jobs=-1)\n",
    "fit = grid.fit(X_train, y_train)\n",
    "best_parameters = fit.best_params_\n",
    "print('Los parámetros seleccionados por la función GridSearch son:', best_parameters)\n",
    "\n",
    "# Realizamos las predicciones usando el mejor modelo encontrado por GridSearchCV\n",
    "predict = grid.predict(X_test)\n",
    "\n",
    "# Validación de la curva para el parámetro \"max_depth\"\n",
    "train_scores, test_scores = validation_curve(model, X_train, y_train, param_name=\"max_depth\", param_range=max_depth, cv=5)\n",
    "train_scores_mean = np.mean(train_scores, axis=1)\n",
    "test_scores_mean = np.mean(test_scores, axis=1)\n",
    "\n",
    "# Graficamos la curva de validación para \"max_depth\"\n",
    "plt.title(\"Validation Curve with Decision Tree (Max Depth)\")\n",
    "plt.xlabel('Max Depth')\n",
    "plt.ylabel(\"Score\")\n",
    "plt.plot(max_depth, train_scores_mean, label=\"Training score\", color=\"navy\", marker='.')\n",
    "plt.plot(max_depth, test_scores_mean, label=\"Cross-validation score\", color=\"darkorange\", marker='.')\n",
    "plt.grid()\n",
    "plt.legend(loc=\"best\")\n",
    "plt.show()\n",
    "\n",
    "# Validación de la curva para el parámetro \"min_samples_leaf\"\n",
    "train_scores, test_scores = validation_curve(model, X_train, y_train, param_name=\"min_samples_leaf\", param_range=min_samples_leaf, cv=5)\n",
    "train_scores_mean = np.mean(train_scores, axis=1)\n",
    "test_scores_mean = np.mean(test_scores, axis=1)\n",
    "\n",
    "# Graficamos la curva de validación para \"min_samples_leaf\"\n",
    "plt.title(\"Validation Curve with Decision Tree (Min Samples Leaf)\")\n",
    "plt.xlabel('Min Samples Leaf')\n",
    "plt.ylabel(\"Score\")\n",
    "plt.plot(min_samples_leaf, train_scores_mean, label=\"Training score\", color=\"navy\", marker='.')\n",
    "plt.plot(min_samples_leaf, test_scores_mean, label=\"Cross-validation score\", color=\"darkorange\", marker='.')\n",
    "plt.grid()\n",
    "plt.legend(loc=\"best\")\n",
    "plt.show()\n"
   ]
  },
  {
   "cell_type": "code",
   "execution_count": 16,
   "metadata": {},
   "outputs": [
    {
     "name": "stdout",
     "output_type": "stream",
     "text": [
      "=============== Regressor Report ================\n",
      "El R2 para el modelo de árboles de decisión en el conjunto de TEST es: 0.5148\n",
      "El R2 para el modelo de árboles de decisión en el conjunto de TRAIN es: 0.6115 \n",
      "\n",
      "Variance score: 0.5198\n",
      "Mean squared error score: 0.7078\n"
     ]
    }
   ],
   "source": [
    "# Calcular el R2 para el conjunto de test y el conjunto de train\n",
    "r2_test = grid.score(X_test, y_test).round(4)\n",
    "r2_train = grid.score(X_train, y_train).round(4)\n",
    "\n",
    "# Calcular la varianza y el error cuadrático medio\n",
    "var = explained_variance_score(y_test, predict).round(4)\n",
    "mse = mean_squared_error(y_test, predict).round(4)\n",
    "\n",
    "# Imprimir el reporte del modelo\n",
    "print(\"=============== Regressor Report ================\")\n",
    "print('El R2 para el modelo de árboles de decisión en el conjunto de TEST es:', r2_test)\n",
    "print('El R2 para el modelo de árboles de decisión en el conjunto de TRAIN es:', r2_train, '\\n')\n",
    "print(\"Variance score:\", var)\n",
    "print(\"Mean squared error score:\", mse)\n",
    "\n",
    "# Asignar los resultados al DataFrame 'comp'\n",
    "comp.loc['Árbol'] = [r2_test, r2_train, mse, var]"
   ]
  },
  {
   "cell_type": "markdown",
   "metadata": {},
   "source": [
    "## COMPARACIÓN DE RESULTADOS"
   ]
  },
  {
   "cell_type": "code",
   "execution_count": 17,
   "metadata": {},
   "outputs": [
    {
     "data": {
      "text/html": [
       "<div>\n",
       "<style scoped>\n",
       "    .dataframe tbody tr th:only-of-type {\n",
       "        vertical-align: middle;\n",
       "    }\n",
       "\n",
       "    .dataframe tbody tr th {\n",
       "        vertical-align: top;\n",
       "    }\n",
       "\n",
       "    .dataframe thead th {\n",
       "        text-align: right;\n",
       "    }\n",
       "</style>\n",
       "<table border=\"1\" class=\"dataframe\">\n",
       "  <thead>\n",
       "    <tr style=\"text-align: right;\">\n",
       "      <th></th>\n",
       "      <th>R2 test</th>\n",
       "      <th>R2 train</th>\n",
       "      <th>Error cuadrático medio</th>\n",
       "      <th>Varianza</th>\n",
       "    </tr>\n",
       "  </thead>\n",
       "  <tbody>\n",
       "    <tr>\n",
       "      <th>Regresión lineal</th>\n",
       "      <td>0.4722</td>\n",
       "      <td>0.5662</td>\n",
       "      <td>0.7701</td>\n",
       "      <td>0.4771</td>\n",
       "    </tr>\n",
       "    <tr>\n",
       "      <th>KNN</th>\n",
       "      <td>0.5152</td>\n",
       "      <td>0.6035</td>\n",
       "      <td>0.7701</td>\n",
       "      <td>0.5171</td>\n",
       "    </tr>\n",
       "    <tr>\n",
       "      <th>Árbol</th>\n",
       "      <td>0.5148</td>\n",
       "      <td>0.6115</td>\n",
       "      <td>0.7078</td>\n",
       "      <td>0.5198</td>\n",
       "    </tr>\n",
       "  </tbody>\n",
       "</table>\n",
       "</div>"
      ],
      "text/plain": [
       "                 R2 test R2 train Error cuadrático medio Varianza\n",
       "Regresión lineal  0.4722   0.5662                 0.7701   0.4771\n",
       "KNN               0.5152   0.6035                 0.7701   0.5171\n",
       "Árbol             0.5148   0.6115                 0.7078   0.5198"
      ]
     },
     "execution_count": 17,
     "metadata": {},
     "output_type": "execute_result"
    }
   ],
   "source": [
    "comp"
   ]
  }
 ],
 "metadata": {
  "kernelspec": {
   "display_name": "Python 3",
   "language": "python",
   "name": "python3"
  },
  "language_info": {
   "codemirror_mode": {
    "name": "ipython",
    "version": 3
   },
   "file_extension": ".py",
   "mimetype": "text/x-python",
   "name": "python",
   "nbconvert_exporter": "python",
   "pygments_lexer": "ipython3",
   "version": "3.11.7"
  }
 },
 "nbformat": 4,
 "nbformat_minor": 2
}
